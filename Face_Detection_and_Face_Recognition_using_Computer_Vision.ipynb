{
  "cells": [
    {
      "cell_type": "markdown",
      "metadata": {
        "id": "view-in-github",
        "colab_type": "text"
      },
      "source": [
        "<a href=\"https://colab.research.google.com/github/sujataprasad01/DL-Face-Detection-and-Face-Recognition-using-Computer-Vision/blob/main/Face_Detection_and_Face_Recognition_using_Computer_Vision.ipynb\" target=\"_parent\"><img src=\"https://colab.research.google.com/assets/colab-badge.svg\" alt=\"Open In Colab\"/></a>"
      ]
    },
    {
      "cell_type": "code",
      "execution_count": 1,
      "metadata": {
        "colab": {
          "base_uri": "https://localhost:8080/"
        },
        "id": "qn4A1ZiHNaVx",
        "outputId": "a7ca076c-be99-41fc-f001-769a36b877a7"
      },
      "outputs": [
        {
          "output_type": "stream",
          "name": "stdout",
          "text": [
            "Requirement already satisfied: opencv-python in /usr/local/lib/python3.10/dist-packages (4.8.0.76)\n",
            "Requirement already satisfied: numpy>=1.21.2 in /usr/local/lib/python3.10/dist-packages (from opencv-python) (1.23.5)\n"
          ]
        }
      ],
      "source": [
        "!pip install opencv-python"
      ]
    },
    {
      "cell_type": "code",
      "execution_count": 2,
      "metadata": {
        "id": "HfCGP0H8NbZC"
      },
      "outputs": [],
      "source": [
        "import cv2"
      ]
    },
    {
      "cell_type": "code",
      "execution_count": 3,
      "metadata": {
        "colab": {
          "base_uri": "https://localhost:8080/"
        },
        "id": "Bg7rB4m0dZ3K",
        "outputId": "8cea2c4d-56fe-409b-f8a8-018d970cfe2a"
      },
      "outputs": [
        {
          "output_type": "stream",
          "name": "stdout",
          "text": [
            "Collecting face_recognition\n",
            "  Downloading face_recognition-1.3.0-py2.py3-none-any.whl (15 kB)\n",
            "Collecting face-recognition-models>=0.3.0 (from face_recognition)\n",
            "  Downloading face_recognition_models-0.3.0.tar.gz (100.1 MB)\n",
            "\u001b[2K     \u001b[90m━━━━━━━━━━━━━━━━━━━━━━━━━━━━━━━━━━━━━━━━\u001b[0m \u001b[32m100.1/100.1 MB\u001b[0m \u001b[31m7.7 MB/s\u001b[0m eta \u001b[36m0:00:00\u001b[0m\n",
            "\u001b[?25h  Preparing metadata (setup.py) ... \u001b[?25l\u001b[?25hdone\n",
            "Requirement already satisfied: Click>=6.0 in /usr/local/lib/python3.10/dist-packages (from face_recognition) (8.1.7)\n",
            "Requirement already satisfied: dlib>=19.7 in /usr/local/lib/python3.10/dist-packages (from face_recognition) (19.24.2)\n",
            "Requirement already satisfied: numpy in /usr/local/lib/python3.10/dist-packages (from face_recognition) (1.23.5)\n",
            "Requirement already satisfied: Pillow in /usr/local/lib/python3.10/dist-packages (from face_recognition) (9.4.0)\n",
            "Building wheels for collected packages: face-recognition-models\n",
            "  Building wheel for face-recognition-models (setup.py) ... \u001b[?25l\u001b[?25hdone\n",
            "  Created wheel for face-recognition-models: filename=face_recognition_models-0.3.0-py2.py3-none-any.whl size=100566170 sha256=80d4808bbc513677d24ce888fa7edcf1d03b1d673ff03930c0908a3a0b158445\n",
            "  Stored in directory: /root/.cache/pip/wheels/7a/eb/cf/e9eced74122b679557f597bb7c8e4c739cfcac526db1fd523d\n",
            "Successfully built face-recognition-models\n",
            "Installing collected packages: face-recognition-models, face_recognition\n",
            "Successfully installed face-recognition-models-0.3.0 face_recognition-1.3.0\n"
          ]
        }
      ],
      "source": [
        "!pip install face_recognition"
      ]
    },
    {
      "cell_type": "code",
      "execution_count": 4,
      "metadata": {
        "colab": {
          "base_uri": "https://localhost:8080/"
        },
        "id": "oiuwx6a4eDxk",
        "outputId": "c75e8d71-768d-4d45-ff2b-2d6cbbedee3a"
      },
      "outputs": [
        {
          "output_type": "stream",
          "name": "stdout",
          "text": [
            "Collecting tensorflow-gpu==2.8\n",
            "  Downloading tensorflow_gpu-2.8.0-cp310-cp310-manylinux2010_x86_64.whl (497.6 MB)\n",
            "\u001b[2K     \u001b[91m━━━━━━━━━━━━━━━━━━━━━━━━━━━━━━━━━━━━━━━\u001b[0m\u001b[91m╸\u001b[0m \u001b[32m493.9/497.6 MB\u001b[0m \u001b[31m133.4 MB/s\u001b[0m eta \u001b[36m0:00:01\u001b[0m\n",
            "\u001b[?25h\u001b[31mERROR: Exception:\n",
            "Traceback (most recent call last):\n",
            "  File \"/usr/local/lib/python3.10/dist-packages/pip/_vendor/urllib3/response.py\", line 438, in _error_catcher\n",
            "    yield\n",
            "  File \"/usr/local/lib/python3.10/dist-packages/pip/_vendor/urllib3/response.py\", line 561, in read\n",
            "    data = self._fp_read(amt) if not fp_closed else b\"\"\n",
            "  File \"/usr/local/lib/python3.10/dist-packages/pip/_vendor/urllib3/response.py\", line 527, in _fp_read\n",
            "    return self._fp.read(amt) if amt is not None else self._fp.read()\n",
            "  File \"/usr/local/lib/python3.10/dist-packages/pip/_vendor/cachecontrol/filewrapper.py\", line 90, in read\n",
            "    data = self.__fp.read(amt)\n",
            "  File \"/usr/lib/python3.10/http/client.py\", line 466, in read\n",
            "    s = self.fp.read(amt)\n",
            "  File \"/usr/lib/python3.10/socket.py\", line 705, in readinto\n",
            "    return self._sock.recv_into(b)\n",
            "  File \"/usr/lib/python3.10/ssl.py\", line 1303, in recv_into\n",
            "    return self.read(nbytes, buffer)\n",
            "  File \"/usr/lib/python3.10/ssl.py\", line 1159, in read\n",
            "    return self._sslobj.read(len, buffer)\n",
            "TimeoutError: The read operation timed out\n",
            "\n",
            "During handling of the above exception, another exception occurred:\n",
            "\n",
            "Traceback (most recent call last):\n",
            "  File \"/usr/local/lib/python3.10/dist-packages/pip/_internal/cli/base_command.py\", line 169, in exc_logging_wrapper\n",
            "    status = run_func(*args)\n",
            "  File \"/usr/local/lib/python3.10/dist-packages/pip/_internal/cli/req_command.py\", line 242, in wrapper\n",
            "    return func(self, options, args)\n",
            "  File \"/usr/local/lib/python3.10/dist-packages/pip/_internal/commands/install.py\", line 377, in run\n",
            "    requirement_set = resolver.resolve(\n",
            "  File \"/usr/local/lib/python3.10/dist-packages/pip/_internal/resolution/resolvelib/resolver.py\", line 92, in resolve\n",
            "    result = self._result = resolver.resolve(\n",
            "  File \"/usr/local/lib/python3.10/dist-packages/pip/_vendor/resolvelib/resolvers.py\", line 546, in resolve\n",
            "    state = resolution.resolve(requirements, max_rounds=max_rounds)\n",
            "  File \"/usr/local/lib/python3.10/dist-packages/pip/_vendor/resolvelib/resolvers.py\", line 397, in resolve\n",
            "    self._add_to_criteria(self.state.criteria, r, parent=None)\n",
            "  File \"/usr/local/lib/python3.10/dist-packages/pip/_vendor/resolvelib/resolvers.py\", line 173, in _add_to_criteria\n",
            "    if not criterion.candidates:\n",
            "  File \"/usr/local/lib/python3.10/dist-packages/pip/_vendor/resolvelib/structs.py\", line 156, in __bool__\n",
            "    return bool(self._sequence)\n",
            "  File \"/usr/local/lib/python3.10/dist-packages/pip/_internal/resolution/resolvelib/found_candidates.py\", line 155, in __bool__\n",
            "    return any(self)\n",
            "  File \"/usr/local/lib/python3.10/dist-packages/pip/_internal/resolution/resolvelib/found_candidates.py\", line 143, in <genexpr>\n",
            "    return (c for c in iterator if id(c) not in self._incompatible_ids)\n",
            "  File \"/usr/local/lib/python3.10/dist-packages/pip/_internal/resolution/resolvelib/found_candidates.py\", line 47, in _iter_built\n",
            "    candidate = func()\n",
            "  File \"/usr/local/lib/python3.10/dist-packages/pip/_internal/resolution/resolvelib/factory.py\", line 206, in _make_candidate_from_link\n",
            "    self._link_candidate_cache[link] = LinkCandidate(\n",
            "  File \"/usr/local/lib/python3.10/dist-packages/pip/_internal/resolution/resolvelib/candidates.py\", line 293, in __init__\n",
            "    super().__init__(\n",
            "  File \"/usr/local/lib/python3.10/dist-packages/pip/_internal/resolution/resolvelib/candidates.py\", line 156, in __init__\n",
            "    self.dist = self._prepare()\n",
            "  File \"/usr/local/lib/python3.10/dist-packages/pip/_internal/resolution/resolvelib/candidates.py\", line 225, in _prepare\n",
            "    dist = self._prepare_distribution()\n",
            "  File \"/usr/local/lib/python3.10/dist-packages/pip/_internal/resolution/resolvelib/candidates.py\", line 304, in _prepare_distribution\n",
            "    return preparer.prepare_linked_requirement(self._ireq, parallel_builds=True)\n",
            "  File \"/usr/local/lib/python3.10/dist-packages/pip/_internal/operations/prepare.py\", line 516, in prepare_linked_requirement\n",
            "    return self._prepare_linked_requirement(req, parallel_builds)\n",
            "  File \"/usr/local/lib/python3.10/dist-packages/pip/_internal/operations/prepare.py\", line 587, in _prepare_linked_requirement\n",
            "    local_file = unpack_url(\n",
            "  File \"/usr/local/lib/python3.10/dist-packages/pip/_internal/operations/prepare.py\", line 166, in unpack_url\n",
            "    file = get_http_url(\n",
            "  File \"/usr/local/lib/python3.10/dist-packages/pip/_internal/operations/prepare.py\", line 107, in get_http_url\n",
            "    from_path, content_type = download(link, temp_dir.path)\n",
            "  File \"/usr/local/lib/python3.10/dist-packages/pip/_internal/network/download.py\", line 147, in __call__\n",
            "    for chunk in chunks:\n",
            "  File \"/usr/local/lib/python3.10/dist-packages/pip/_internal/cli/progress_bars.py\", line 53, in _rich_progress_bar\n",
            "    for chunk in iterable:\n",
            "  File \"/usr/local/lib/python3.10/dist-packages/pip/_internal/network/utils.py\", line 63, in response_chunks\n",
            "    for chunk in response.raw.stream(\n",
            "  File \"/usr/local/lib/python3.10/dist-packages/pip/_vendor/urllib3/response.py\", line 622, in stream\n",
            "    data = self.read(amt=amt, decode_content=decode_content)\n",
            "  File \"/usr/local/lib/python3.10/dist-packages/pip/_vendor/urllib3/response.py\", line 560, in read\n",
            "    with self._error_catcher():\n",
            "  File \"/usr/lib/python3.10/contextlib.py\", line 153, in __exit__\n",
            "    self.gen.throw(typ, value, traceback)\n",
            "  File \"/usr/local/lib/python3.10/dist-packages/pip/_vendor/urllib3/response.py\", line 443, in _error_catcher\n",
            "    raise ReadTimeoutError(self._pool, None, \"Read timed out.\")\n",
            "pip._vendor.urllib3.exceptions.ReadTimeoutError: HTTPSConnectionPool(host='files.pythonhosted.org', port=443): Read timed out.\u001b[0m\u001b[31m\n",
            "\u001b[0m"
          ]
        }
      ],
      "source": [
        "!pip install tensorflow-gpu==2.8"
      ]
    },
    {
      "cell_type": "code",
      "execution_count": 5,
      "metadata": {
        "id": "CPYkfa7-edfz"
      },
      "outputs": [],
      "source": [
        "# import os\n",
        "# os.kill(os.getpid(), 9)"
      ]
    },
    {
      "cell_type": "code",
      "execution_count": 6,
      "metadata": {
        "colab": {
          "base_uri": "https://localhost:8080/"
        },
        "id": "68kwrkujeyci",
        "outputId": "ae4ddb01-5da2-4dcd-a5db-e0ee2cb507a5"
      },
      "outputs": [
        {
          "output_type": "stream",
          "name": "stdout",
          "text": [
            "Tue Jan 30 14:51:37 2024       \n",
            "+---------------------------------------------------------------------------------------+\n",
            "| NVIDIA-SMI 535.104.05             Driver Version: 535.104.05   CUDA Version: 12.2     |\n",
            "|-----------------------------------------+----------------------+----------------------+\n",
            "| GPU  Name                 Persistence-M | Bus-Id        Disp.A | Volatile Uncorr. ECC |\n",
            "| Fan  Temp   Perf          Pwr:Usage/Cap |         Memory-Usage | GPU-Util  Compute M. |\n",
            "|                                         |                      |               MIG M. |\n",
            "|=========================================+======================+======================|\n",
            "|   0  Tesla T4                       Off | 00000000:00:04.0 Off |                    0 |\n",
            "| N/A   45C    P8               9W /  70W |      0MiB / 15360MiB |      0%      Default |\n",
            "|                                         |                      |                  N/A |\n",
            "+-----------------------------------------+----------------------+----------------------+\n",
            "                                                                                         \n",
            "+---------------------------------------------------------------------------------------+\n",
            "| Processes:                                                                            |\n",
            "|  GPU   GI   CI        PID   Type   Process name                            GPU Memory |\n",
            "|        ID   ID                                                             Usage      |\n",
            "|=======================================================================================|\n",
            "|  No running processes found                                                           |\n",
            "+---------------------------------------------------------------------------------------+\n"
          ]
        }
      ],
      "source": [
        "!nvidia-smi"
      ]
    },
    {
      "cell_type": "code",
      "execution_count": 7,
      "metadata": {
        "colab": {
          "base_uri": "https://localhost:8080/"
        },
        "id": "Ko9rajGANbeA",
        "outputId": "a6dcc938-1f27-41cc-c27c-3d4f6a5c4743"
      },
      "outputs": [
        {
          "output_type": "stream",
          "name": "stdout",
          "text": [
            "\r0% [Working]\r            \rGet:1 https://cloud.r-project.org/bin/linux/ubuntu jammy-cran40/ InRelease [3,626 B]\n",
            "Get:2 https://developer.download.nvidia.com/compute/cuda/repos/ubuntu2204/x86_64  InRelease [1,581 B]\n",
            "Get:3 https://developer.download.nvidia.com/compute/cuda/repos/ubuntu2204/x86_64  Packages [665 kB]\n",
            "Get:4 http://security.ubuntu.com/ubuntu jammy-security InRelease [110 kB]\n",
            "Hit:5 http://archive.ubuntu.com/ubuntu jammy InRelease\n",
            "Get:6 http://archive.ubuntu.com/ubuntu jammy-updates InRelease [119 kB]\n",
            "Get:7 https://cloud.r-project.org/bin/linux/ubuntu jammy-cran40/ Packages [48.6 kB]\n",
            "Get:8 https://ppa.launchpadcontent.net/c2d4u.team/c2d4u4.0+/ubuntu jammy InRelease [18.1 kB]\n",
            "Get:9 http://security.ubuntu.com/ubuntu jammy-security/restricted amd64 Packages [1,685 kB]\n",
            "Get:10 https://ppa.launchpadcontent.net/deadsnakes/ppa/ubuntu jammy InRelease [18.1 kB]\n",
            "Get:11 http://archive.ubuntu.com/ubuntu jammy-backports InRelease [109 kB]\n",
            "Get:12 https://ppa.launchpadcontent.net/graphics-drivers/ppa/ubuntu jammy InRelease [24.3 kB]\n",
            "Get:13 https://ppa.launchpadcontent.net/ubuntugis/ppa/ubuntu jammy InRelease [23.8 kB]\n",
            "Get:14 http://archive.ubuntu.com/ubuntu jammy-updates/main amd64 Packages [1,677 kB]\n",
            "Get:15 https://ppa.launchpadcontent.net/c2d4u.team/c2d4u4.0+/ubuntu jammy/main Sources [2,264 kB]\n",
            "Get:16 http://security.ubuntu.com/ubuntu jammy-security/main amd64 Packages [1,398 kB]\n",
            "Get:17 http://security.ubuntu.com/ubuntu jammy-security/multiverse amd64 Packages [44.6 kB]\n",
            "Get:18 http://security.ubuntu.com/ubuntu jammy-security/universe amd64 Packages [1,061 kB]\n",
            "Get:19 http://archive.ubuntu.com/ubuntu jammy-updates/multiverse amd64 Packages [50.4 kB]\n",
            "Get:20 http://archive.ubuntu.com/ubuntu jammy-updates/universe amd64 Packages [1,327 kB]\n",
            "Get:21 http://archive.ubuntu.com/ubuntu jammy-updates/restricted amd64 Packages [1,722 kB]\n",
            "Get:22 http://archive.ubuntu.com/ubuntu jammy-backports/main amd64 Packages [50.4 kB]\n",
            "Get:23 http://archive.ubuntu.com/ubuntu jammy-backports/universe amd64 Packages [28.1 kB]\n",
            "Get:24 https://ppa.launchpadcontent.net/c2d4u.team/c2d4u4.0+/ubuntu jammy/main amd64 Packages [1,162 kB]\n",
            "Get:25 https://ppa.launchpadcontent.net/deadsnakes/ppa/ubuntu jammy/main amd64 Packages [28.2 kB]\n",
            "Get:26 https://ppa.launchpadcontent.net/graphics-drivers/ppa/ubuntu jammy/main amd64 Packages [44.4 kB]\n",
            "Get:27 https://ppa.launchpadcontent.net/ubuntugis/ppa/ubuntu jammy/main amd64 Packages [66.2 kB]\n",
            "Fetched 13.7 MB in 3s (4,727 kB/s)\n",
            "Reading package lists... Done\n",
            "Reading package lists... Done\n",
            "Building dependency tree... Done\n",
            "Reading state information... Done\n",
            "The following additional packages will be installed:\n",
            "  cpp-12 dctrl-tools dkms fakeroot gcc-12 keyboard-configuration libasan8 libfakeroot libfontenc1\n",
            "  libgcc-12-dev libjansson4 liblocale-gettext-perl libnvidia-cfg1-470 libnvidia-common-470\n",
            "  libnvidia-compute-470 libnvidia-decode-470 libnvidia-egl-wayland1 libnvidia-encode-470\n",
            "  libnvidia-extra-470 libnvidia-fbc1-470 libnvidia-gl-470 libnvidia-ifr1-470 libpam-systemd\n",
            "  libsystemd0 libtsan2 libudev1 libxcvt0 libxfont2 libxkbfile1 nvidia-compute-utils-470\n",
            "  nvidia-dkms-470 nvidia-kernel-common-470 nvidia-kernel-source-470 nvidia-prime nvidia-settings\n",
            "  nvidia-utils-470 python3-xkit screen-resolution-extra systemd systemd-hwe-hwdb systemd-sysv udev\n",
            "  x11-xkb-utils xcvt xfonts-base xfonts-encodings xfonts-utils xserver-common xserver-xorg-core\n",
            "  xserver-xorg-video-nvidia-470\n",
            "Suggested packages:\n",
            "  gcc-12-locales cpp-12-doc debtags menu gcc-12-multilib gcc-12-doc systemd-container\n",
            "  libtss2-esys-3.0.2-0 libtss2-mu0 libtss2-rc0 xfs | xserver xfonts-100dpi | xfonts-75dpi\n",
            "  xfonts-scalable\n",
            "Recommended packages:\n",
            "  libnvidia-compute-470:i386 libnvidia-decode-470:i386 libnvidia-encode-470:i386\n",
            "  libnvidia-ifr1-470:i386 libnvidia-fbc1-470:i386 libnvidia-gl-470:i386 networkd-dispatcher\n",
            "  systemd-timesyncd | time-daemon libnss-systemd\n",
            "The following NEW packages will be installed:\n",
            "  cpp-12 dctrl-tools dkms fakeroot gcc-12 keyboard-configuration libasan8 libfakeroot libfontenc1\n",
            "  libgcc-12-dev libjansson4 liblocale-gettext-perl libnvidia-cfg1-470 libnvidia-common-470\n",
            "  libnvidia-compute-470 libnvidia-decode-470 libnvidia-egl-wayland1 libnvidia-encode-470\n",
            "  libnvidia-extra-470 libnvidia-fbc1-470 libnvidia-gl-470 libnvidia-ifr1-470 libtsan2 libxcvt0\n",
            "  libxfont2 libxkbfile1 nvidia-compute-utils-470 nvidia-dkms-470 nvidia-driver-470\n",
            "  nvidia-kernel-common-470 nvidia-kernel-source-470 nvidia-prime nvidia-settings nvidia-utils-470\n",
            "  python3-xkit screen-resolution-extra systemd-hwe-hwdb udev x11-xkb-utils xcvt xfonts-base\n",
            "  xfonts-encodings xfonts-utils xserver-common xserver-xorg-core xserver-xorg-video-nvidia-470\n",
            "The following packages will be upgraded:\n",
            "  libpam-systemd libsystemd0 libudev1 systemd systemd-sysv\n",
            "5 upgraded, 46 newly installed, 0 to remove and 143 not upgraded.\n",
            "Need to get 291 MB of archives.\n",
            "After this operation, 759 MB of additional disk space will be used.\n",
            "Get:1 https://developer.download.nvidia.com/compute/cuda/repos/ubuntu2204/x86_64  nvidia-settings 545.23.08-0ubuntu1 [946 kB]\n",
            "Get:2 http://archive.ubuntu.com/ubuntu jammy-updates/main amd64 systemd-sysv amd64 249.11-0ubuntu3.12 [10.5 kB]\n",
            "Get:3 http://security.ubuntu.com/ubuntu jammy-security/main amd64 xserver-common all 2:21.1.4-2ubuntu1.7~22.04.8 [28.6 kB]\n",
            "Get:4 http://archive.ubuntu.com/ubuntu jammy-updates/main amd64 libpam-systemd amd64 249.11-0ubuntu3.12 [203 kB]\n",
            "Get:5 http://security.ubuntu.com/ubuntu jammy-security/main amd64 xserver-xorg-core amd64 2:21.1.4-2ubuntu1.7~22.04.8 [1,477 kB]\n",
            "Get:6 http://archive.ubuntu.com/ubuntu jammy-updates/main amd64 systemd amd64 249.11-0ubuntu3.12 [4,581 kB]\n",
            "Get:7 http://archive.ubuntu.com/ubuntu jammy-updates/main amd64 libsystemd0 amd64 249.11-0ubuntu3.12 [319 kB]\n",
            "Get:8 http://archive.ubuntu.com/ubuntu jammy/main amd64 liblocale-gettext-perl amd64 1.07-4build3 [17.1 kB]\n",
            "Get:9 http://archive.ubuntu.com/ubuntu jammy/main amd64 keyboard-configuration all 1.205ubuntu3 [206 kB]\n",
            "Get:10 http://archive.ubuntu.com/ubuntu jammy-updates/main amd64 cpp-12 amd64 12.3.0-1ubuntu1~22.04 [10.8 MB]\n",
            "Get:11 http://archive.ubuntu.com/ubuntu jammy-updates/main amd64 libasan8 amd64 12.3.0-1ubuntu1~22.04 [2,442 kB]\n",
            "Get:12 http://archive.ubuntu.com/ubuntu jammy-updates/main amd64 libtsan2 amd64 12.3.0-1ubuntu1~22.04 [2,477 kB]\n",
            "Get:13 http://archive.ubuntu.com/ubuntu jammy-updates/main amd64 libgcc-12-dev amd64 12.3.0-1ubuntu1~22.04 [2,618 kB]\n",
            "Get:14 http://archive.ubuntu.com/ubuntu jammy-updates/main amd64 gcc-12 amd64 12.3.0-1ubuntu1~22.04 [21.7 MB]\n",
            "Get:15 http://archive.ubuntu.com/ubuntu jammy/main amd64 dctrl-tools amd64 2.24-3build2 [66.9 kB]\n",
            "Get:16 http://archive.ubuntu.com/ubuntu jammy-updates/main amd64 dkms all 2.8.7-2ubuntu2.2 [70.1 kB]\n",
            "Get:17 http://archive.ubuntu.com/ubuntu jammy-updates/main amd64 libudev1 amd64 249.11-0ubuntu3.12 [78.2 kB]\n",
            "Get:18 http://archive.ubuntu.com/ubuntu jammy-updates/main amd64 udev amd64 249.11-0ubuntu3.12 [1,557 kB]\n",
            "Get:19 http://archive.ubuntu.com/ubuntu jammy/main amd64 libjansson4 amd64 2.13.1-1.1build3 [32.4 kB]\n",
            "Get:20 http://archive.ubuntu.com/ubuntu jammy/main amd64 libfakeroot amd64 1.28-1ubuntu1 [31.5 kB]\n",
            "Get:21 http://archive.ubuntu.com/ubuntu jammy/main amd64 fakeroot amd64 1.28-1ubuntu1 [60.4 kB]\n",
            "Get:22 http://archive.ubuntu.com/ubuntu jammy/main amd64 libfontenc1 amd64 1:1.1.4-1build3 [14.7 kB]\n",
            "Get:23 http://archive.ubuntu.com/ubuntu jammy-updates/restricted amd64 libnvidia-cfg1-470 amd64 470.223.02-0ubuntu0.22.04.1 [87.6 kB]\n",
            "Get:24 http://archive.ubuntu.com/ubuntu jammy-updates/restricted amd64 libnvidia-common-470 all 470.223.02-0ubuntu0.22.04.1 [10.1 kB]\n",
            "Get:25 http://archive.ubuntu.com/ubuntu jammy-updates/restricted amd64 libnvidia-compute-470 amd64 470.223.02-0ubuntu0.22.04.1 [34.7 MB]\n",
            "Get:26 http://archive.ubuntu.com/ubuntu jammy-updates/restricted amd64 libnvidia-decode-470 amd64 470.223.02-0ubuntu0.22.04.1 [1,563 kB]\n",
            "Get:27 http://archive.ubuntu.com/ubuntu jammy/main amd64 libnvidia-egl-wayland1 amd64 1:1.1.9-1.1 [26.1 kB]\n",
            "Get:28 http://archive.ubuntu.com/ubuntu jammy-updates/restricted amd64 libnvidia-encode-470 amd64 470.223.02-0ubuntu0.22.04.1 [45.4 kB]\n",
            "Get:29 http://archive.ubuntu.com/ubuntu jammy-updates/restricted amd64 libnvidia-extra-470 amd64 470.223.02-0ubuntu0.22.04.1 [47.2 kB]\n",
            "Get:30 http://archive.ubuntu.com/ubuntu jammy-updates/restricted amd64 libnvidia-fbc1-470 amd64 470.223.02-0ubuntu0.22.04.1 [50.5 kB]\n",
            "Get:31 http://archive.ubuntu.com/ubuntu jammy-updates/restricted amd64 libnvidia-gl-470 amd64 470.223.02-0ubuntu0.22.04.1 [152 MB]\n",
            "Get:32 http://archive.ubuntu.com/ubuntu jammy-updates/restricted amd64 libnvidia-ifr1-470 amd64 470.223.02-0ubuntu0.22.04.1 [74.5 kB]\n",
            "Get:33 http://archive.ubuntu.com/ubuntu jammy/main amd64 libxcvt0 amd64 0.1.1-3 [5,494 B]\n",
            "Get:34 http://archive.ubuntu.com/ubuntu jammy/main amd64 libxfont2 amd64 1:2.0.5-1build1 [94.5 kB]\n",
            "Get:35 http://archive.ubuntu.com/ubuntu jammy/main amd64 libxkbfile1 amd64 1:1.1.0-1build3 [71.8 kB]\n",
            "Get:36 http://archive.ubuntu.com/ubuntu jammy-updates/restricted amd64 nvidia-compute-utils-470 amd64 470.223.02-0ubuntu0.22.04.1 [114 kB]\n",
            "Get:37 http://archive.ubuntu.com/ubuntu jammy-updates/restricted amd64 nvidia-kernel-source-470 amd64 470.223.02-0ubuntu0.22.04.1 [25.7 MB]\n",
            "Get:38 http://archive.ubuntu.com/ubuntu jammy-updates/restricted amd64 nvidia-kernel-common-470 amd64 470.223.02-0ubuntu0.22.04.1 [17.3 MB]\n",
            "Get:39 http://archive.ubuntu.com/ubuntu jammy-updates/restricted amd64 nvidia-dkms-470 amd64 470.223.02-0ubuntu0.22.04.1 [31.1 kB]\n",
            "Get:40 http://archive.ubuntu.com/ubuntu jammy-updates/restricted amd64 nvidia-utils-470 amd64 470.223.02-0ubuntu0.22.04.1 [408 kB]\n",
            "Get:41 http://archive.ubuntu.com/ubuntu jammy/main amd64 x11-xkb-utils amd64 7.7+5build4 [172 kB]\n",
            "Get:42 http://archive.ubuntu.com/ubuntu jammy-updates/restricted amd64 xserver-xorg-video-nvidia-470 amd64 470.223.02-0ubuntu0.22.04.1 [1,656 kB]\n",
            "Get:43 http://archive.ubuntu.com/ubuntu jammy-updates/restricted amd64 nvidia-driver-470 amd64 470.223.02-0ubuntu0.22.04.1 [453 kB]\n",
            "Get:44 http://archive.ubuntu.com/ubuntu jammy/main amd64 nvidia-prime all 0.8.17.1 [9,956 B]\n",
            "Get:45 http://archive.ubuntu.com/ubuntu jammy/main amd64 python3-xkit all 0.5.0ubuntu5 [18.5 kB]\n",
            "Get:46 http://archive.ubuntu.com/ubuntu jammy/main amd64 screen-resolution-extra all 0.18.2 [4,396 B]\n",
            "Get:47 http://archive.ubuntu.com/ubuntu jammy-updates/main amd64 systemd-hwe-hwdb all 249.11.5 [3,228 B]\n",
            "Get:48 http://archive.ubuntu.com/ubuntu jammy/main amd64 xcvt amd64 0.1.1-3 [7,140 B]\n",
            "Get:49 http://archive.ubuntu.com/ubuntu jammy/main amd64 xfonts-encodings all 1:1.0.5-0ubuntu2 [578 kB]\n",
            "Get:50 http://archive.ubuntu.com/ubuntu jammy/main amd64 xfonts-utils amd64 1:7.7+6build2 [94.6 kB]\n",
            "Get:51 http://archive.ubuntu.com/ubuntu jammy/main amd64 xfonts-base all 1:1.0.5 [5,896 kB]\n",
            "Fetched 291 MB in 24s (11.9 MB/s)\n",
            "Extracting templates from packages: 100%\n",
            "Preconfiguring packages ...\n",
            "(Reading database ... 120903 files and directories currently installed.)\n",
            "Preparing to unpack .../systemd-sysv_249.11-0ubuntu3.12_amd64.deb ...\n",
            "Unpacking systemd-sysv (249.11-0ubuntu3.12) over (249.11-0ubuntu3.11) ...\n",
            "Preparing to unpack .../libpam-systemd_249.11-0ubuntu3.12_amd64.deb ...\n",
            "Unpacking libpam-systemd:amd64 (249.11-0ubuntu3.12) over (249.11-0ubuntu3.11) ...\n",
            "Preparing to unpack .../systemd_249.11-0ubuntu3.12_amd64.deb ...\n",
            "Unpacking systemd (249.11-0ubuntu3.12) over (249.11-0ubuntu3.11) ...\n",
            "Preparing to unpack .../libsystemd0_249.11-0ubuntu3.12_amd64.deb ...\n",
            "Unpacking libsystemd0:amd64 (249.11-0ubuntu3.12) over (249.11-0ubuntu3.11) ...\n",
            "Setting up libsystemd0:amd64 (249.11-0ubuntu3.12) ...\n",
            "Selecting previously unselected package liblocale-gettext-perl.\n",
            "(Reading database ... 120903 files and directories currently installed.)\n",
            "Preparing to unpack .../0-liblocale-gettext-perl_1.07-4build3_amd64.deb ...\n",
            "Unpacking liblocale-gettext-perl (1.07-4build3) ...\n",
            "Selecting previously unselected package keyboard-configuration.\n",
            "Preparing to unpack .../1-keyboard-configuration_1.205ubuntu3_all.deb ...\n",
            "Unpacking keyboard-configuration (1.205ubuntu3) ...\n",
            "Selecting previously unselected package cpp-12.\n",
            "Preparing to unpack .../2-cpp-12_12.3.0-1ubuntu1~22.04_amd64.deb ...\n",
            "Unpacking cpp-12 (12.3.0-1ubuntu1~22.04) ...\n",
            "Selecting previously unselected package libasan8:amd64.\n",
            "Preparing to unpack .../3-libasan8_12.3.0-1ubuntu1~22.04_amd64.deb ...\n",
            "Unpacking libasan8:amd64 (12.3.0-1ubuntu1~22.04) ...\n",
            "Selecting previously unselected package libtsan2:amd64.\n",
            "Preparing to unpack .../4-libtsan2_12.3.0-1ubuntu1~22.04_amd64.deb ...\n",
            "Unpacking libtsan2:amd64 (12.3.0-1ubuntu1~22.04) ...\n",
            "Selecting previously unselected package libgcc-12-dev:amd64.\n",
            "Preparing to unpack .../5-libgcc-12-dev_12.3.0-1ubuntu1~22.04_amd64.deb ...\n",
            "Unpacking libgcc-12-dev:amd64 (12.3.0-1ubuntu1~22.04) ...\n",
            "Selecting previously unselected package gcc-12.\n",
            "Preparing to unpack .../6-gcc-12_12.3.0-1ubuntu1~22.04_amd64.deb ...\n",
            "Unpacking gcc-12 (12.3.0-1ubuntu1~22.04) ...\n",
            "Selecting previously unselected package dctrl-tools.\n",
            "Preparing to unpack .../7-dctrl-tools_2.24-3build2_amd64.deb ...\n",
            "Unpacking dctrl-tools (2.24-3build2) ...\n",
            "Selecting previously unselected package dkms.\n",
            "Preparing to unpack .../8-dkms_2.8.7-2ubuntu2.2_all.deb ...\n",
            "Unpacking dkms (2.8.7-2ubuntu2.2) ...\n",
            "Preparing to unpack .../9-libudev1_249.11-0ubuntu3.12_amd64.deb ...\n",
            "Unpacking libudev1:amd64 (249.11-0ubuntu3.12) over (249.11-0ubuntu3.10) ...\n",
            "Setting up libudev1:amd64 (249.11-0ubuntu3.12) ...\n",
            "Selecting previously unselected package udev.\n",
            "(Reading database ... 121263 files and directories currently installed.)\n",
            "Preparing to unpack .../00-udev_249.11-0ubuntu3.12_amd64.deb ...\n",
            "Unpacking udev (249.11-0ubuntu3.12) ...\n",
            "Selecting previously unselected package libjansson4:amd64.\n",
            "Preparing to unpack .../01-libjansson4_2.13.1-1.1build3_amd64.deb ...\n",
            "Unpacking libjansson4:amd64 (2.13.1-1.1build3) ...\n",
            "Selecting previously unselected package libfakeroot:amd64.\n",
            "Preparing to unpack .../02-libfakeroot_1.28-1ubuntu1_amd64.deb ...\n",
            "Unpacking libfakeroot:amd64 (1.28-1ubuntu1) ...\n",
            "Selecting previously unselected package fakeroot.\n",
            "Preparing to unpack .../03-fakeroot_1.28-1ubuntu1_amd64.deb ...\n",
            "Unpacking fakeroot (1.28-1ubuntu1) ...\n",
            "Selecting previously unselected package libfontenc1:amd64.\n",
            "Preparing to unpack .../04-libfontenc1_1%3a1.1.4-1build3_amd64.deb ...\n",
            "Unpacking libfontenc1:amd64 (1:1.1.4-1build3) ...\n",
            "Selecting previously unselected package libnvidia-cfg1-470:amd64.\n",
            "Preparing to unpack .../05-libnvidia-cfg1-470_470.223.02-0ubuntu0.22.04.1_amd64.deb ...\n",
            "Unpacking libnvidia-cfg1-470:amd64 (470.223.02-0ubuntu0.22.04.1) ...\n",
            "Selecting previously unselected package libnvidia-common-470.\n",
            "Preparing to unpack .../06-libnvidia-common-470_470.223.02-0ubuntu0.22.04.1_all.deb ...\n",
            "Unpacking libnvidia-common-470 (470.223.02-0ubuntu0.22.04.1) ...\n",
            "Selecting previously unselected package libnvidia-compute-470:amd64.\n",
            "Preparing to unpack .../07-libnvidia-compute-470_470.223.02-0ubuntu0.22.04.1_amd64.deb ...\n",
            "Unpacking libnvidia-compute-470:amd64 (470.223.02-0ubuntu0.22.04.1) ...\n",
            "Selecting previously unselected package libnvidia-decode-470:amd64.\n",
            "Preparing to unpack .../08-libnvidia-decode-470_470.223.02-0ubuntu0.22.04.1_amd64.deb ...\n",
            "Unpacking libnvidia-decode-470:amd64 (470.223.02-0ubuntu0.22.04.1) ...\n",
            "Selecting previously unselected package libnvidia-egl-wayland1:amd64.\n",
            "Preparing to unpack .../09-libnvidia-egl-wayland1_1%3a1.1.9-1.1_amd64.deb ...\n",
            "Unpacking libnvidia-egl-wayland1:amd64 (1:1.1.9-1.1) ...\n",
            "Selecting previously unselected package libnvidia-encode-470:amd64.\n",
            "Preparing to unpack .../10-libnvidia-encode-470_470.223.02-0ubuntu0.22.04.1_amd64.deb ...\n",
            "Unpacking libnvidia-encode-470:amd64 (470.223.02-0ubuntu0.22.04.1) ...\n",
            "Selecting previously unselected package libnvidia-extra-470:amd64.\n",
            "Preparing to unpack .../11-libnvidia-extra-470_470.223.02-0ubuntu0.22.04.1_amd64.deb ...\n",
            "Unpacking libnvidia-extra-470:amd64 (470.223.02-0ubuntu0.22.04.1) ...\n",
            "Selecting previously unselected package libnvidia-fbc1-470:amd64.\n",
            "Preparing to unpack .../12-libnvidia-fbc1-470_470.223.02-0ubuntu0.22.04.1_amd64.deb ...\n",
            "Unpacking libnvidia-fbc1-470:amd64 (470.223.02-0ubuntu0.22.04.1) ...\n",
            "Selecting previously unselected package libnvidia-gl-470:amd64.\n",
            "Preparing to unpack .../13-libnvidia-gl-470_470.223.02-0ubuntu0.22.04.1_amd64.deb ...\n",
            "Unpacking libnvidia-gl-470:amd64 (470.223.02-0ubuntu0.22.04.1) ...\n",
            "Selecting previously unselected package libnvidia-ifr1-470:amd64.\n",
            "Preparing to unpack .../14-libnvidia-ifr1-470_470.223.02-0ubuntu0.22.04.1_amd64.deb ...\n",
            "Unpacking libnvidia-ifr1-470:amd64 (470.223.02-0ubuntu0.22.04.1) ...\n",
            "Selecting previously unselected package libxcvt0:amd64.\n",
            "Preparing to unpack .../15-libxcvt0_0.1.1-3_amd64.deb ...\n",
            "Unpacking libxcvt0:amd64 (0.1.1-3) ...\n",
            "Selecting previously unselected package libxfont2:amd64.\n",
            "Preparing to unpack .../16-libxfont2_1%3a2.0.5-1build1_amd64.deb ...\n",
            "Unpacking libxfont2:amd64 (1:2.0.5-1build1) ...\n",
            "Selecting previously unselected package libxkbfile1:amd64.\n",
            "Preparing to unpack .../17-libxkbfile1_1%3a1.1.0-1build3_amd64.deb ...\n",
            "Unpacking libxkbfile1:amd64 (1:1.1.0-1build3) ...\n",
            "Selecting previously unselected package nvidia-compute-utils-470.\n",
            "Preparing to unpack .../18-nvidia-compute-utils-470_470.223.02-0ubuntu0.22.04.1_amd64.deb ...\n",
            "Unpacking nvidia-compute-utils-470 (470.223.02-0ubuntu0.22.04.1) ...\n",
            "Selecting previously unselected package nvidia-kernel-source-470.\n",
            "Preparing to unpack .../19-nvidia-kernel-source-470_470.223.02-0ubuntu0.22.04.1_amd64.deb ...\n",
            "Unpacking nvidia-kernel-source-470 (470.223.02-0ubuntu0.22.04.1) ...\n",
            "Selecting previously unselected package nvidia-kernel-common-470.\n",
            "Preparing to unpack .../20-nvidia-kernel-common-470_470.223.02-0ubuntu0.22.04.1_amd64.deb ...\n",
            "Unpacking nvidia-kernel-common-470 (470.223.02-0ubuntu0.22.04.1) ...\n",
            "Selecting previously unselected package nvidia-dkms-470.\n",
            "Preparing to unpack .../21-nvidia-dkms-470_470.223.02-0ubuntu0.22.04.1_amd64.deb ...\n",
            "Unpacking nvidia-dkms-470 (470.223.02-0ubuntu0.22.04.1) ...\n",
            "Selecting previously unselected package nvidia-utils-470.\n",
            "Preparing to unpack .../22-nvidia-utils-470_470.223.02-0ubuntu0.22.04.1_amd64.deb ...\n",
            "Unpacking nvidia-utils-470 (470.223.02-0ubuntu0.22.04.1) ...\n",
            "Selecting previously unselected package x11-xkb-utils.\n",
            "Preparing to unpack .../23-x11-xkb-utils_7.7+5build4_amd64.deb ...\n",
            "Unpacking x11-xkb-utils (7.7+5build4) ...\n",
            "Selecting previously unselected package xserver-common.\n",
            "Preparing to unpack .../24-xserver-common_2%3a21.1.4-2ubuntu1.7~22.04.8_all.deb ...\n",
            "Unpacking xserver-common (2:21.1.4-2ubuntu1.7~22.04.8) ...\n",
            "Selecting previously unselected package xserver-xorg-core.\n",
            "Preparing to unpack .../25-xserver-xorg-core_2%3a21.1.4-2ubuntu1.7~22.04.8_amd64.deb ...\n",
            "Unpacking xserver-xorg-core (2:21.1.4-2ubuntu1.7~22.04.8) ...\n",
            "Selecting previously unselected package xserver-xorg-video-nvidia-470.\n",
            "Preparing to unpack .../26-xserver-xorg-video-nvidia-470_470.223.02-0ubuntu0.22.04.1_amd64.deb ...\n",
            "Unpacking xserver-xorg-video-nvidia-470 (470.223.02-0ubuntu0.22.04.1) ...\n",
            "Selecting previously unselected package nvidia-driver-470.\n",
            "Preparing to unpack .../27-nvidia-driver-470_470.223.02-0ubuntu0.22.04.1_amd64.deb ...\n",
            "Unpacking nvidia-driver-470 (470.223.02-0ubuntu0.22.04.1) ...\n",
            "Selecting previously unselected package nvidia-prime.\n",
            "Preparing to unpack .../28-nvidia-prime_0.8.17.1_all.deb ...\n",
            "Unpacking nvidia-prime (0.8.17.1) ...\n",
            "Selecting previously unselected package python3-xkit.\n",
            "Preparing to unpack .../29-python3-xkit_0.5.0ubuntu5_all.deb ...\n",
            "Unpacking python3-xkit (0.5.0ubuntu5) ...\n",
            "Selecting previously unselected package screen-resolution-extra.\n",
            "Preparing to unpack .../30-screen-resolution-extra_0.18.2_all.deb ...\n",
            "Unpacking screen-resolution-extra (0.18.2) ...\n",
            "Selecting previously unselected package nvidia-settings.\n",
            "Preparing to unpack .../31-nvidia-settings_545.23.08-0ubuntu1_amd64.deb ...\n",
            "Unpacking nvidia-settings (545.23.08-0ubuntu1) ...\n",
            "Selecting previously unselected package systemd-hwe-hwdb.\n",
            "Preparing to unpack .../32-systemd-hwe-hwdb_249.11.5_all.deb ...\n",
            "Unpacking systemd-hwe-hwdb (249.11.5) ...\n",
            "Selecting previously unselected package xcvt.\n",
            "Preparing to unpack .../33-xcvt_0.1.1-3_amd64.deb ...\n",
            "Unpacking xcvt (0.1.1-3) ...\n",
            "Selecting previously unselected package xfonts-encodings.\n",
            "Preparing to unpack .../34-xfonts-encodings_1%3a1.0.5-0ubuntu2_all.deb ...\n",
            "Unpacking xfonts-encodings (1:1.0.5-0ubuntu2) ...\n",
            "Selecting previously unselected package xfonts-utils.\n",
            "Preparing to unpack .../35-xfonts-utils_1%3a7.7+6build2_amd64.deb ...\n",
            "Unpacking xfonts-utils (1:7.7+6build2) ...\n",
            "Selecting previously unselected package xfonts-base.\n",
            "Preparing to unpack .../36-xfonts-base_1%3a1.0.5_all.deb ...\n",
            "Unpacking xfonts-base (1:1.0.5) ...\n",
            "Setting up nvidia-kernel-source-470 (470.223.02-0ubuntu0.22.04.1) ...\n",
            "Setting up cpp-12 (12.3.0-1ubuntu1~22.04) ...\n",
            "Setting up nvidia-prime (0.8.17.1) ...\n",
            "Setting up libnvidia-compute-470:amd64 (470.223.02-0ubuntu0.22.04.1) ...\n",
            "Setting up libnvidia-extra-470:amd64 (470.223.02-0ubuntu0.22.04.1) ...\n",
            "Setting up nvidia-utils-470 (470.223.02-0ubuntu0.22.04.1) ...\n",
            "Setting up systemd (249.11-0ubuntu3.12) ...\n",
            "\u001b[0;1;31m/usr/lib/tmpfiles.d/static-nodes-permissions.conf:17: Failed to resolve group 'kvm'.\u001b[0m\n",
            "\u001b[0;1;31m/usr/lib/tmpfiles.d/static-nodes-permissions.conf:18: Failed to resolve group 'kvm'.\u001b[0m\n",
            "\u001b[0;1;31m/usr/lib/tmpfiles.d/static-nodes-permissions.conf:19: Failed to resolve group 'kvm'.\u001b[0m\n",
            "Setting up libnvidia-fbc1-470:amd64 (470.223.02-0ubuntu0.22.04.1) ...\n",
            "Setting up nvidia-compute-utils-470 (470.223.02-0ubuntu0.22.04.1) ...\n",
            "Warning: The home dir /nonexistent you specified can't be accessed: No such file or directory\n",
            "Adding system user `nvidia-persistenced' (UID 104) ...\n",
            "Adding new group `nvidia-persistenced' (GID 107) ...\n",
            "Adding new user `nvidia-persistenced' (UID 104) with group `nvidia-persistenced' ...\n",
            "Not creating home directory `/nonexistent'.\n",
            "Setting up libfakeroot:amd64 (1.28-1ubuntu1) ...\n",
            "Setting up libjansson4:amd64 (2.13.1-1.1build3) ...\n",
            "Setting up fakeroot (1.28-1ubuntu1) ...\n",
            "update-alternatives: using /usr/bin/fakeroot-sysv to provide /usr/bin/fakeroot (fakeroot) in auto mode\n",
            "Setting up libnvidia-egl-wayland1:amd64 (1:1.1.9-1.1) ...\n",
            "Setting up libfontenc1:amd64 (1:1.1.4-1build3) ...\n",
            "Setting up libnvidia-cfg1-470:amd64 (470.223.02-0ubuntu0.22.04.1) ...\n",
            "Setting up xfonts-encodings (1:1.0.5-0ubuntu2) ...\n",
            "Setting up udev (249.11-0ubuntu3.12) ...\n",
            "invoke-rc.d: could not determine current runlevel\n",
            "invoke-rc.d: policy-rc.d denied execution of start.\n",
            "Setting up libnvidia-common-470 (470.223.02-0ubuntu0.22.04.1) ...\n",
            "Setting up systemd-hwe-hwdb (249.11.5) ...\n",
            "Setting up nvidia-kernel-common-470 (470.223.02-0ubuntu0.22.04.1) ...\n",
            "Created symlink /etc/systemd/system/systemd-hibernate.service.requires/nvidia-hibernate.service → /lib/systemd/system/nvidia-hibernate.service.\n",
            "Created symlink /etc/systemd/system/systemd-suspend.service.requires/nvidia-resume.service → /lib/systemd/system/nvidia-resume.service.\n",
            "Created symlink /etc/systemd/system/systemd-hibernate.service.requires/nvidia-resume.service → /lib/systemd/system/nvidia-resume.service.\n",
            "Created symlink /etc/systemd/system/systemd-suspend.service.requires/nvidia-suspend.service → /lib/systemd/system/nvidia-suspend.service.\n",
            "Setting up libnvidia-gl-470:amd64 (470.223.02-0ubuntu0.22.04.1) ...\n",
            "Setting up libasan8:amd64 (12.3.0-1ubuntu1~22.04) ...\n",
            "Setting up libxcvt0:amd64 (0.1.1-3) ...\n",
            "Setting up libxkbfile1:amd64 (1:1.1.0-1build3) ...\n",
            "Setting up libtsan2:amd64 (12.3.0-1ubuntu1~22.04) ...\n",
            "Setting up python3-xkit (0.5.0ubuntu5) ...\n",
            "Setting up libxfont2:amd64 (1:2.0.5-1build1) ...\n",
            "Setting up liblocale-gettext-perl (1.07-4build3) ...\n",
            "Setting up dctrl-tools (2.24-3build2) ...\n",
            "Setting up libnvidia-decode-470:amd64 (470.223.02-0ubuntu0.22.04.1) ...\n",
            "Setting up systemd-sysv (249.11-0ubuntu3.12) ...\n",
            "Setting up x11-xkb-utils (7.7+5build4) ...\n",
            "Setting up libnvidia-ifr1-470:amd64 (470.223.02-0ubuntu0.22.04.1) ...\n",
            "Setting up xfonts-utils (1:7.7+6build2) ...\n",
            "Setting up xcvt (0.1.1-3) ...\n",
            "Setting up xfonts-base (1:1.0.5) ...\n",
            "Setting up libgcc-12-dev:amd64 (12.3.0-1ubuntu1~22.04) ...\n",
            "Setting up libnvidia-encode-470:amd64 (470.223.02-0ubuntu0.22.04.1) ...\n",
            "Setting up screen-resolution-extra (0.18.2) ...\n",
            "Setting up libpam-systemd:amd64 (249.11-0ubuntu3.12) ...\n",
            "Setting up nvidia-settings (545.23.08-0ubuntu1) ...\n",
            "Setting up xserver-common (2:21.1.4-2ubuntu1.7~22.04.8) ...\n",
            "Setting up keyboard-configuration (1.205ubuntu3) ...\n",
            "Your console font configuration will be updated the next time your system\n",
            "boots. If you want to update it now, run 'setupcon' from a virtual console.\n",
            "Setting up xserver-xorg-core (2:21.1.4-2ubuntu1.7~22.04.8) ...\n",
            "Setting up gcc-12 (12.3.0-1ubuntu1~22.04) ...\n",
            "Setting up xserver-xorg-video-nvidia-470 (470.223.02-0ubuntu0.22.04.1) ...\n",
            "Setting up dkms (2.8.7-2ubuntu2.2) ...\n",
            "Setting up nvidia-dkms-470 (470.223.02-0ubuntu0.22.04.1) ...\n",
            "Loading new nvidia-470.223.02 DKMS files...\n",
            "It is likely that 6.1.58+ belongs to a chroot's host\n",
            "Building for 5.15.0-91-generic\n",
            "Building for architecture x86_64\n",
            "Building initial module for 5.15.0-91-generic\n",
            "Done.\n",
            "\n",
            "nvidia.ko:\n",
            "Running module version sanity check.\n",
            " - Original module\n",
            "   - No original module exists within this kernel\n",
            " - Installation\n",
            "   - Installing to /lib/modules/5.15.0-91-generic/updates/dkms/\n",
            "\n",
            "nvidia-modeset.ko:\n",
            "Running module version sanity check.\n",
            " - Original module\n",
            "   - No original module exists within this kernel\n",
            " - Installation\n",
            "   - Installing to /lib/modules/5.15.0-91-generic/updates/dkms/\n",
            "\n",
            "nvidia-drm.ko:\n",
            "Running module version sanity check.\n",
            " - Original module\n",
            "   - No original module exists within this kernel\n",
            " - Installation\n",
            "   - Installing to /lib/modules/5.15.0-91-generic/updates/dkms/\n",
            "\n",
            "nvidia-uvm.ko:\n",
            "Running module version sanity check.\n",
            " - Original module\n",
            "   - No original module exists within this kernel\n",
            " - Installation\n",
            "   - Installing to /lib/modules/5.15.0-91-generic/updates/dkms/\n",
            "\n",
            "nvidia-peermem.ko:\n",
            "Running module version sanity check.\n",
            " - Original module\n",
            "   - No original module exists within this kernel\n",
            " - Installation\n",
            "   - Installing to /lib/modules/5.15.0-91-generic/updates/dkms/\n",
            "\n",
            "depmod...\n",
            "Setting up nvidia-driver-470 (470.223.02-0ubuntu0.22.04.1) ...\n",
            "Processing triggers for fontconfig (2.13.1-4.2ubuntu5) ...\n",
            "Processing triggers for libc-bin (2.35-0ubuntu3.4) ...\n",
            "/sbin/ldconfig.real: /usr/local/lib/libtbbmalloc_proxy.so.2 is not a symbolic link\n",
            "\n",
            "/sbin/ldconfig.real: /usr/local/lib/libtbb.so.12 is not a symbolic link\n",
            "\n",
            "/sbin/ldconfig.real: /usr/local/lib/libtbbbind_2_5.so.3 is not a symbolic link\n",
            "\n",
            "/sbin/ldconfig.real: /usr/local/lib/libtbbmalloc.so.2 is not a symbolic link\n",
            "\n",
            "/sbin/ldconfig.real: /usr/local/lib/libtbbbind.so.3 is not a symbolic link\n",
            "\n",
            "/sbin/ldconfig.real: /usr/local/lib/libtbbbind_2_0.so.3 is not a symbolic link\n",
            "\n",
            "Processing triggers for man-db (2.10.2-1) ...\n",
            "Processing triggers for dbus (1.12.20-2ubuntu4.1) ...\n"
          ]
        }
      ],
      "source": [
        "!apt-get update -y\n",
        "!apt-get install -y nvidia-driver-470"
      ]
    },
    {
      "cell_type": "code",
      "execution_count": 8,
      "metadata": {
        "colab": {
          "base_uri": "https://localhost:8080/"
        },
        "id": "tGvzFCgaNbg2",
        "outputId": "d32b2aaf-1319-48ae-e456-5d5d07259725"
      },
      "outputs": [
        {
          "output_type": "stream",
          "name": "stdout",
          "text": [
            "jupyter-lab: unrecognized service\n"
          ]
        }
      ],
      "source": [
        "!service jupyter-lab restart"
      ]
    },
    {
      "cell_type": "code",
      "execution_count": 9,
      "metadata": {
        "colab": {
          "base_uri": "https://localhost:8080/"
        },
        "id": "v0W0LcVNNbjA",
        "outputId": "9e5da71a-a6a8-4ff5-e254-4f2db9a71331"
      },
      "outputs": [
        {
          "output_type": "stream",
          "name": "stdout",
          "text": [
            "\u001b[31mERROR: Invalid requirement: 'dlib/'\n",
            "Hint: It looks like a path. File 'dlib/' does not exist.\u001b[0m\u001b[31m\n",
            "\u001b[0m"
          ]
        }
      ],
      "source": [
        "!pip install --upgrade dlib/"
      ]
    },
    {
      "cell_type": "code",
      "execution_count": 10,
      "metadata": {
        "id": "QdQB2jttNbbg"
      },
      "outputs": [],
      "source": [
        "from imutils import paths\n",
        "import face_recognition\n",
        "import pickle\n",
        "import os"
      ]
    },
    {
      "cell_type": "code",
      "source": [
        "imagePath=list(paths.list_images('/content/drive/MyDrive/Colab Notebooks/Images'))\n",
        "kEncoding=[]\n",
        "kNames=[]"
      ],
      "metadata": {
        "id": "xoITm8j-x-PW"
      },
      "execution_count": 11,
      "outputs": []
    },
    {
      "cell_type": "code",
      "source": [
        "imagePath"
      ],
      "metadata": {
        "colab": {
          "base_uri": "https://localhost:8080/"
        },
        "id": "PL4OQ8ZBx-SO",
        "outputId": "122d0c8d-6b7d-4e7c-ca7a-4118cf6c4054"
      },
      "execution_count": 12,
      "outputs": [
        {
          "output_type": "execute_result",
          "data": {
            "text/plain": [
              "['/content/drive/MyDrive/Colab Notebooks/Images/download (1).jpeg',\n",
              " '/content/drive/MyDrive/Colab Notebooks/Images/grouping-1st-L-e1451909610614.jpg',\n",
              " '/content/drive/MyDrive/Colab Notebooks/Images/images (1).jpeg']"
            ]
          },
          "metadata": {},
          "execution_count": 12
        }
      ]
    },
    {
      "cell_type": "code",
      "source": [
        "for i in imagePath:\n",
        "  print(i)"
      ],
      "metadata": {
        "id": "rKlj5EXGx-Vg"
      },
      "execution_count": 11,
      "outputs": []
    },
    {
      "cell_type": "code",
      "source": [
        "for (i, ip) in enumerate(imagePath):\n",
        "  print(i, ip)"
      ],
      "metadata": {
        "colab": {
          "base_uri": "https://localhost:8080/"
        },
        "id": "L0Fs5-57x-ZB",
        "outputId": "3c735995-8673-4de0-e1dc-2a6f3f8f1853"
      },
      "execution_count": 13,
      "outputs": [
        {
          "output_type": "stream",
          "name": "stdout",
          "text": [
            "0 /content/drive/MyDrive/Colab Notebooks/Images/download (1).jpeg\n",
            "1 /content/drive/MyDrive/Colab Notebooks/Images/grouping-1st-L-e1451909610614.jpg\n",
            "2 /content/drive/MyDrive/Colab Notebooks/Images/images (1).jpeg\n"
          ]
        }
      ]
    },
    {
      "cell_type": "code",
      "source": [],
      "metadata": {
        "id": "LN8Q5IVGx-fC"
      },
      "execution_count": 11,
      "outputs": []
    }
  ],
  "metadata": {
    "accelerator": "GPU",
    "colab": {
      "provenance": [],
      "mount_file_id": "1S_VvSklnX-pB3GJPiUrsEmnFYsvZ24JK",
      "authorship_tag": "ABX9TyOZnd9PfD2DUsvmrntuEwYL",
      "include_colab_link": true
    },
    "kernelspec": {
      "display_name": "Python 3",
      "name": "python3"
    },
    "language_info": {
      "name": "python"
    }
  },
  "nbformat": 4,
  "nbformat_minor": 0
}